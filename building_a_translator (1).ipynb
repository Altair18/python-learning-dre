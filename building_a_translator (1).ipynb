{
  "nbformat": 4,
  "nbformat_minor": 0,
  "metadata": {
    "colab": {
      "provenance": []
    },
    "kernelspec": {
      "name": "python3",
      "display_name": "Python 3"
    },
    "language_info": {
      "name": "python"
    }
  },
  "cells": [
    {
      "cell_type": "code",
      "execution_count": 21,
      "metadata": {
        "colab": {
          "base_uri": "https://localhost:8080/"
        },
        "id": "cn2GUF17ErQl",
        "outputId": "07ea2e03-92ea-4917-a701-4953cf40db77"
      },
      "outputs": [
        {
          "output_type": "stream",
          "name": "stdout",
          "text": [
            "Enter a phrase: hello man\n",
            "hgllg mgn\n"
          ]
        }
      ],
      "source": [
        "def translator(phrase): # Creating the translator function that take in the phrase parameter\n",
        "  translation = \"\"\n",
        "  for letter in phrase: # Looping through every letter in given phrase\n",
        "    if letter in \"AEIOUaeiou\": # If any of the letters contain any of the following vowels, then replace the vowels with the letter g\n",
        "      translation = translation + 'g'\n",
        "    else:\n",
        "      translation = translation + letter # Else leave as is\n",
        "  return translation\n",
        "\n",
        "print(translator(input(\"Enter a phrase: \"))) # Setting the phrase parameter as input of the function translator and printing out the string"
      ]
    }
  ]
}