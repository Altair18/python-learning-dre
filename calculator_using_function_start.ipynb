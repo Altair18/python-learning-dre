{
  "nbformat": 4,
  "nbformat_minor": 0,
  "metadata": {
    "colab": {
      "provenance": []
    },
    "kernelspec": {
      "name": "python3",
      "display_name": "Python 3"
    },
    "language_info": {
      "name": "python"
    }
  },
  "cells": [
    {
      "cell_type": "code",
      "execution_count": 23,
      "metadata": {
        "colab": {
          "base_uri": "https://localhost:8080/"
        },
        "id": "Yu4hKavXxVbt",
        "outputId": "19862f42-d1ce-4bb6-8a33-432342f5d81b"
      },
      "outputs": [
        {
          "name": "stdout",
          "output_type": "stream",
          "text": [
            "What would you like to do, please type the following (spell it right): Addition, Multiplication, Subtraction, DivisionDivision\n",
            "Enter a Number: 23\n",
            "Enter another Number: 2\n"
          ]
        },
        {
          "output_type": "execute_result",
          "data": {
            "text/plain": [
              "11.5"
            ]
          },
          "metadata": {},
          "execution_count": 23
        }
      ],
      "source": [
        "choice = input(\"What would you like to do, please type the following (spell it right): Addition, Multiplication, Subtraction, Division\")\n",
        "\n",
        "def user_choice(n):\n",
        "  if n == \"Addition\":\n",
        "    return num1 + num2\n",
        "  elif n == \"Subtraction\":\n",
        "    return num1 - num2\n",
        "  elif n == \"Multiplication\":\n",
        "    return num1 * num2\n",
        "  elif n == \"Division\":\n",
        "    return num1/num2\n",
        "  else:\n",
        "    print(\"There's an Issue with your spelling\")\n",
        "\n",
        "num1 = float(input(\"Enter a Number: \"))\n",
        "num2 = float(input(\"Enter another Number: \"))\n",
        "\n",
        "user_choice(choice)"
      ]
    }
  ]
}