{
  "nbformat": 4,
  "nbformat_minor": 0,
  "metadata": {
    "colab": {
      "provenance": []
    },
    "kernelspec": {
      "name": "python3",
      "display_name": "Python 3"
    },
    "language_info": {
      "name": "python"
    }
  },
  "cells": [
    {
      "cell_type": "code",
      "execution_count": 5,
      "metadata": {
        "colab": {
          "base_uri": "https://localhost:8080/"
        },
        "id": "hGGlTQV4LBzm",
        "outputId": "325c1fae-02db-49e8-83bf-2078fd9f0872"
      },
      "outputs": [
        {
          "output_type": "stream",
          "name": "stdout",
          "text": [
            "Q1: Is the earth flat? (True/False) False\n",
            "Q2: Python was created by Guido van Rossum (True/False) True\n",
            "Q3: RAM stands for \"Readily Accessible Memory\" (True/False) True\n",
            "You scored: 2/3\n"
          ]
        }
      ],
      "source": [
        "class Question:\n",
        "    def __init__(self, prompt, answer):\n",
        "        self.prompt = prompt\n",
        "        self.answer = answer\n",
        "\n",
        "question_prompts = [\n",
        "    \"Q1: Is the earth flat? (True/False) \",\n",
        "    \"Q2: Python was created by Guido van Rossum (True/False) \",\n",
        "    \"Q3: RAM stands for \\\"Readily Accessible Memory\\\" (True/False) \"\n",
        "]\n",
        "\n",
        "ans = [\n",
        "    Question(question_prompts[0], \"False\"),\n",
        "    Question(question_prompts[1], \"True\"),\n",
        "    Question(question_prompts[2], \"False\")\n",
        "]\n",
        "\n",
        "def run_it():\n",
        "    score = 0\n",
        "    for question in ans:\n",
        "        answer = input(question.prompt)\n",
        "        if answer == question.answer:\n",
        "            score += 1\n",
        "    print(\"You scored: \" + str(score) + \"/\" + str(len(question_prompts)))\n",
        "\n",
        "run_it()"
      ]
    },
    {
      "cell_type": "markdown",
      "source": [
        "I created a simple True/False quiz application in Python. It uses a custom Question class to store each question prompt and its correct answer. A list of Question objects is initialized using predefined strings and answers. The run_it function handles user input, checks each response against the correct answer, keeps track of the score, and displays the final result."
      ],
      "metadata": {
        "id": "VQhCK07fMPjX"
      }
    }
  ]
}