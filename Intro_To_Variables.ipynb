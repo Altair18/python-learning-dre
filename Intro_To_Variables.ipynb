{
  "nbformat": 4,
  "nbformat_minor": 0,
  "metadata": {
    "colab": {
      "provenance": []
    },
    "kernelspec": {
      "name": "python3",
      "display_name": "Python 3"
    },
    "language_info": {
      "name": "python"
    }
  },
  "cells": [
    {
      "cell_type": "code",
      "execution_count": 8,
      "metadata": {
        "colab": {
          "base_uri": "https://localhost:8080/"
        },
        "id": "dfxEB1CZXOU-",
        "outputId": "b8afecd9-7259-43ae-bfe0-9a6ff7f09aa9"
      },
      "outputs": [
        {
          "output_type": "stream",
          "name": "stdout",
          "text": [
            "Your name is Andrej\n",
            "And your age is 22\n",
            "So, in summary: Andrej is your name and you're 22 years old\n"
          ]
        }
      ],
      "source": [
        "person_name = \"Andrej\" # This line stores the variable name and assigns the value of \"Andrej in it\"\n",
        "person_age = 22 # Defining a the variable name person_age with the integer value of 22\n",
        "print(\"Your name is \" + person_name)\n",
        "print(\"And your age is \" + str(person_age))\n",
        "print(\"So, in summary: \" + person_name + \" is your name and you're \" + str(person_age) + \" years old\") # Concatenating variables and strings learnt together"
      ]
    },
    {
      "cell_type": "markdown",
      "source": [
        "I learned about variables and how storing values in these variables make it easier and more practical to simplify and reuse code for larger databases."
      ],
      "metadata": {
        "id": "7yhK_EaqdrGR"
      }
    }
  ]
}