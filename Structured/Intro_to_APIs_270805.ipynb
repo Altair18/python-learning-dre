{
  "nbformat": 4,
  "nbformat_minor": 0,
  "metadata": {
    "colab": {
      "provenance": []
    },
    "kernelspec": {
      "name": "python3",
      "display_name": "Python 3"
    },
    "language_info": {
      "name": "python"
    }
  },
  "cells": [
    {
      "cell_type": "code",
      "execution_count": 3,
      "metadata": {
        "colab": {
          "base_uri": "https://localhost:8080/"
        },
        "id": "nI0eeG24p8SZ",
        "outputId": "74fff038-7f34-4857-818e-e1584998c6d9"
      },
      "outputs": [
        {
          "output_type": "stream",
          "name": "stdout",
          "text": [
            "Our Song\n",
            "Teardrops On My Guitar (Radio Single Remix)\n",
            "Tim McGraw\n",
            "Picture to Burn\n",
            "Should've Said No\n"
          ]
        }
      ],
      "source": [
        "import requests\n",
        "import json\n",
        "import sys\n",
        "\n",
        "# Remove the check for command-line arguments\n",
        "# if len(sys.argv) != 2:\n",
        "#     sys.exit()\n",
        "\n",
        "# Directly use a search term in the code\n",
        "search_term = \"Taylor Swift\" # Replace with your desired search term\n",
        "\n",
        "response = requests.get(\"https://itunes.apple.com/search?entity=song&limit=4&term=\" + search_term)\n",
        "\n",
        "\n",
        "o = response.json()\n",
        "for result in o[\"results\"]:\n",
        "    print(result[\"trackName\"])"
      ]
    },
    {
      "cell_type": "markdown",
      "source": [
        "This was part of my learning. I have been introduced to API's and goal was to get a specific variable information by iterating through all the possible results that appeared in trackName. In this example, I was forced to rewrite it because google collab doesn't support command-line arguments when running python so I had to substitue the code as shown."
      ],
      "metadata": {
        "id": "9y-hAmhMqUGf"
      }
    }
  ]
}
