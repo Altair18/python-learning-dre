{
  "nbformat": 4,
  "nbformat_minor": 0,
  "metadata": {
    "colab": {
      "provenance": []
    },
    "kernelspec": {
      "name": "python3",
      "display_name": "Python 3"
    },
    "language_info": {
      "name": "python"
    }
  },
  "cells": [
    {
      "cell_type": "code",
      "execution_count": 60,
      "metadata": {
        "colab": {
          "base_uri": "https://localhost:8080/"
        },
        "id": "3rCjoArGBfRN",
        "outputId": "502d299d-2bdf-4772-dde9-a47f668569a9"
      },
      "outputs": [
        {
          "output_type": "stream",
          "name": "stdout",
          "text": [
            "Hello, welcome to my little experimentation mini-games playlist!\n",
            " You can Choose from the following:\n",
            "\n",
            "['Calculator', 'Guess']\n",
            "\n",
            "To choose, type the corresponding int; Calculator(1) OR Guess(2) ???\n",
            "Which One Would You like to play?: 1\n",
            "\n",
            "This is a calculator!\n",
            " feel free to choose your desired operation below\n",
            "Choose one of the following to get started: +, - , x , /12\n",
            "Enter a number: 32\n",
            "Enter another number: 32\n",
            "Input is invalid, would you like to try again?: Y/N\n",
            "N\n",
            "Would you like to play a different game?: Y/N? Y\n",
            "What's your name?: Andrej\n",
            "Would You like to play a secret guessing game with me Andrej? :Y/N?Y\n",
            "Enter Guess: monkey\n",
            "You have 3 guesses left!\n",
            "\n",
            "Enter Guess: raccoon\n",
            "You have 2 guesses left!\n",
            "\n",
            "Enter Guess: giraffe\n",
            "You have 1 guesses left!\n",
            "\n",
            "You guessed that correctly!\n"
          ]
        }
      ],
      "source": [
        "mini = [\"Calculator\", \"Guess\"]\n",
        "\n",
        "print(\"Hello, welcome to my little experimentation mini-games playlist!\\n You can Choose from the following:\\n\")\n",
        "print(mini)\n",
        "print(\"\\nTo choose, type the corresponding int; Calculator(1) OR Guess(2) ???\")\n",
        "pick = input(\"Which One Would You like to play?: \")\n",
        "\n",
        "def calculator_game():\n",
        "  print(\"\\nThis is a calculator!\" + \"\\n feel free to choose your desired operation below\")\n",
        "  choice = input(\"Choose one of the following to get started: +, - , x , /\")\n",
        "  num1 = float(input(\"Enter a number: \"))\n",
        "  num2 = float(input(\"Enter another number: \"))\n",
        "  if choice == \"+\":\n",
        "    print(\"The answer is: \" + str(num1 + num2))\n",
        "  elif choice == \"-\":\n",
        "    print(\"The answer is: \" + str(num1 - num2))\n",
        "  elif choice == \"x\":\n",
        "    print(\"The answer is: \" + str(num1 * num2))\n",
        "  elif choice == \"/\":\n",
        "    print(\"The answer is: \" + str(num1 / num2))\n",
        "  else:\n",
        "    print(\"Input is invalid, would you like to try again?: Y/N\")\n",
        "    yn = input()\n",
        "    if yn == \"Y\":\n",
        "      calculator_game()\n",
        "    if yn == \"N\":\n",
        "      different = input(\"Would you like to play a different game?: Y/N? \")\n",
        "      if different == \"Y\":\n",
        "\n",
        "        guess_game()\n",
        "      else:\n",
        "        print(\"Have a nice day!\")\n",
        "\n",
        "def guess_game():\n",
        "  secret_word = \"giraffe\"\n",
        "  limit = 3\n",
        "  guess = \"\"\n",
        "  name = input(\"What's your name?: \")\n",
        "  answer = input(\"Would You like to play a secret guessing game with me \" + name + \"? :Y/N?\")\n",
        "  if answer == \"Y\":\n",
        "    while guess != secret_word and limit >= 0:\n",
        "      guess = input(\"Enter Guess: \")\n",
        "      print(\"You have \" + str(limit) + \" guesses left!\\n\")\n",
        "      limit -= 1\n",
        "      if guess == secret_word:\n",
        "        print(\"You guessed that correctly!\")\n",
        "  elif answer == \"N\":\n",
        "    different = input(\"Would you like to play another game?: Y/N? \")\n",
        "    if different == \"Y\":\n",
        "      calculator_game()\n",
        "    else:\n",
        "      print(\"No Problem, have a nice day!\")\n",
        "\n",
        "if pick == mini[0] or pick == \"1\":\n",
        "  calculator_game()\n",
        "elif pick == mini[1] or pick == \"2\":\n",
        "  guess_game()"
      ]
    }
  ]
}