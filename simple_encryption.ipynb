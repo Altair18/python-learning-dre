{
  "nbformat": 4,
  "nbformat_minor": 0,
  "metadata": {
    "colab": {
      "provenance": []
    },
    "kernelspec": {
      "name": "python3",
      "display_name": "Python 3"
    },
    "language_info": {
      "name": "python"
    }
  },
  "cells": [
    {
      "cell_type": "code",
      "execution_count": 2,
      "metadata": {
        "colab": {
          "base_uri": "https://localhost:8080/"
        },
        "id": "BGeahoVSqfQ3",
        "outputId": "196d71ae-c1be-4150-c87f-f25072fcba58"
      },
      "outputs": [
        {
          "output_type": "stream",
          "name": "stdout",
          "text": [
            "first index is :  h  and the encrypted is:  j\n",
            "first index is :  e  and the encrypted is:  jg\n",
            "first index is :  l  and the encrypted is:  jgn\n",
            "first index is :  l  and the encrypted is:  jgnn\n",
            "first index is :  o  and the encrypted is:  jgnnq\n",
            "first index is :  ,  and the encrypted is:  jgnnqb\n",
            "first index is :     and the encrypted is:  jgnnqb \n",
            "first index is :  m  and the encrypted is:  jgnnqb o\n",
            "first index is :  y  and the encrypted is:  jgnnqb oa\n",
            "first index is :     and the encrypted is:  jgnnqb oa \n",
            "first index is :  n  and the encrypted is:  jgnnqb oa p\n",
            "first index is :  a  and the encrypted is:  jgnnqb oa pc\n",
            "first index is :  m  and the encrypted is:  jgnnqb oa pco\n",
            "first index is :  e  and the encrypted is:  jgnnqb oa pcog\n",
            "first index is :     and the encrypted is:  jgnnqb oa pcog \n",
            "first index is :  i  and the encrypted is:  jgnnqb oa pcog k\n",
            "first index is :  s  and the encrypted is:  jgnnqb oa pcog ku\n",
            "first index is :     and the encrypted is:  jgnnqb oa pcog ku \n",
            "first index is :  a  and the encrypted is:  jgnnqb oa pcog ku c\n",
            "first index is :  n  and the encrypted is:  jgnnqb oa pcog ku cp\n",
            "first index is :  d  and the encrypted is:  jgnnqb oa pcog ku cpf\n",
            "first index is :  r  and the encrypted is:  jgnnqb oa pcog ku cpft\n",
            "first index is :  e  and the encrypted is:  jgnnqb oa pcog ku cpftg\n",
            "first index is :  j  and the encrypted is:  jgnnqb oa pcog ku cpftgl\n"
          ]
        }
      ],
      "source": [
        "text = \"Hello, my name is Andrej\"\n",
        "shift = 2 # number of positions to shift\n",
        "alphabet = \"abcdefghijklmnopqrstuvwxyz\" # referencing the whole alphabet for indexing\n",
        "encrypted_text = '' # variable for the encrypted result\n",
        "\n",
        "for char in text.lower():\n",
        "    if char == ' ':\n",
        "        encrypted_text += char # Keep the space as is\n",
        "    else:\n",
        "        index = alphabet.find(char) # find the index of the character in the alphabet\n",
        "        new_index = (shift + index) % len(alphabet)  # new variable to store the shift (encrypted version) and wraps it if it goes past the end value of 'z'\n",
        "        encrypted_text += alphabet[new_index]\n",
        "    print(\"first index is : \", char, \" and the encrypted is: \", encrypted_text)"
      ]
    },
    {
      "cell_type": "markdown",
      "source": [
        "This code performs a simple encryption with a fixed shift of 2. It works by looping through each character in the input text and converting it to a lowercase. Shifts characters by the shift amount and encryption is printed."
      ],
      "metadata": {
        "id": "mJg-U7VHrEK_"
      }
    }
  ]
}