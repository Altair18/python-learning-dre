{
  "nbformat": 4,
  "nbformat_minor": 0,
  "metadata": {
    "colab": {
      "provenance": []
    },
    "kernelspec": {
      "name": "python3",
      "display_name": "Python 3"
    },
    "language_info": {
      "name": "python"
    }
  },
  "cells": [
    {
      "cell_type": "code",
      "execution_count": 15,
      "metadata": {
        "colab": {
          "base_uri": "https://localhost:8080/"
        },
        "id": "eni10HdVZiHP",
        "outputId": "0e8c8b15-e28f-49bb-e3da-9f5191574564"
      },
      "outputs": [
        {
          "output_type": "stream",
          "name": "stdout",
          "text": [
            "Enter a guess: giraffe\n",
            "Enter a guess: pen\n",
            "Enter a guess: monkey\n",
            "You Win\n"
          ]
        }
      ],
      "source": [
        "secret_word = \"monkey\"\n",
        "guess = \"\"\n",
        "guess_limit = 3\n",
        "guess_count = 0\n",
        "out_of_guesses = False\n",
        "\n",
        "while guess != secret_word and not(out_of_guesses):\n",
        "  if guess_count < guess_limit:\n",
        "    guess = input(\"Enter a guess: \")\n",
        "    guess_count += 1\n",
        "  else:\n",
        "    out_of_guesses = True\n",
        "\n",
        "if out_of_guesses:\n",
        "  print(\"You ran out of Guesses! You lost!\")\n",
        "else:\n",
        "  print(\"You Win\")"
      ]
    }
  ]
}