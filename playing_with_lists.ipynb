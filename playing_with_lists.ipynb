{
  "nbformat": 4,
  "nbformat_minor": 0,
  "metadata": {
    "colab": {
      "provenance": []
    },
    "kernelspec": {
      "name": "python3",
      "display_name": "Python 3"
    },
    "language_info": {
      "name": "python"
    }
  },
  "cells": [
    {
      "cell_type": "code",
      "execution_count": 61,
      "metadata": {
        "colab": {
          "base_uri": "https://localhost:8080/"
        },
        "id": "AkqD7aS2gM61",
        "outputId": "e17f0d86-27a9-4e93-ad3b-68e71e678889"
      },
      "outputs": [
        {
          "output_type": "stream",
          "name": "stdout",
          "text": [
            "2\n",
            "4\n",
            "['Bruce Willis', 'Darren Watkins', 'Dwayne Johnson', 'Michael Jackson']\n",
            "['Sahil', 'Leonardo', 'Alex', 'Karlos', 19, 21, 17, 4, 17, 17, 17, 3]\n",
            "['Sahil', 'Leonardo', 'Alex', 'Karlos']\n",
            "There once was a man name Alex\n",
            "He has 8 Favourite numbers\n",
            "And he always looked up to Dwayne Johnson\n"
          ]
        }
      ],
      "source": [
        "favourite_numbers = [19, 21, 17, 4, 17, 17, 17]\n",
        "friends = [\"Sahil\", \"Leonardo\", \"Alex\", \"Karlos\"]\n",
        "celebrities = [\"Dwayne Johnson\", \"Michael Jackson\", \"Bruce Willis\", \"Darren Watkins\"]\n",
        "\n",
        "favourite_numbers.append(3) # Adding a specific item to the list\n",
        "friends.extend(favourite_numbers) # Extending current friends list with favourite_numbers list\n",
        "friends.insert(-2, \"Lexy\") # Selective placement of appending a value\n",
        "friends.pop(-3) #Removing\n",
        "print(favourite_numbers.index(17)) # Searching for elements\n",
        "print(favourite_numbers.count(17)) # Counting how many of these elements are in the list\n",
        "celebrities.sort() # Sorting the list in ascending order\n",
        "print(celebrities)\n",
        "friends2 = friends.copy()\n",
        "print(friends)\n",
        "print(friends2[0: 4]) # Specific selection\n",
        "\n",
        "print(\"There once was a man name \" + friends[2])\n",
        "print(\"He has \" + str(len(favourite_numbers)) + \" Favourite numbers\")\n",
        "print(\"And he always looked up to \" + celebrities[2])"
      ]
    }
  ]
}