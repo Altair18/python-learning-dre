{
  "nbformat": 4,
  "nbformat_minor": 0,
  "metadata": {
    "colab": {
      "provenance": []
    },
    "kernelspec": {
      "name": "python3",
      "display_name": "Python 3"
    },
    "language_info": {
      "name": "python"
    }
  },
  "cells": [
    {
      "cell_type": "code",
      "execution_count": 12,
      "metadata": {
        "colab": {
          "base_uri": "https://localhost:8080/"
        },
        "id": "NPLOeiCKZrc_",
        "outputId": "bdd81a24-ff15-479f-eb44-009eecac6eb2"
      },
      "outputs": [
        {
          "output_type": "stream",
          "name": "stdout",
          "text": [
            "Enter a number: 2.3\n",
            "Enter another number: 5\n",
            "7.3\n"
          ]
        }
      ],
      "source": [
        "number1 = input(\"Enter a number: \")\n",
        "number2 = input(\"Enter another number: \")\n",
        "result = float(number1) + float(number2) # Converting default input type of string to int\n",
        "print(result)"
      ]
    },
    {
      "cell_type": "markdown",
      "source": [
        "Created two variables that take input, converted the input into a float and printed out the result"
      ],
      "metadata": {
        "id": "7p-Jx_OwdwxY"
      }
    }
  ]
}