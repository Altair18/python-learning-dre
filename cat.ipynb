{
  "nbformat": 4,
  "nbformat_minor": 0,
  "metadata": {
    "colab": {
      "provenance": []
    },
    "kernelspec": {
      "name": "python3",
      "display_name": "Python 3"
    },
    "language_info": {
      "name": "python"
    }
  },
  "cells": [
    {
      "cell_type": "code",
      "execution_count": 2,
      "metadata": {
        "colab": {
          "base_uri": "https://localhost:8080/"
        },
        "id": "YMSpObS0d1G-",
        "outputId": "dc04c679-0c68-4370-9dd4-0801b3b491b5"
      },
      "outputs": [
        {
          "output_type": "stream",
          "name": "stdout",
          "text": [
            "What's x? -23\n",
            "What's x? -4\n",
            "What's x? 4\n",
            "meow\n",
            "meow\n",
            "meow\n",
            "meow\n"
          ]
        }
      ],
      "source": [
        "def main():\n",
        "    num = get_number()\n",
        "    number(num)\n",
        "\n",
        "\n",
        "def get_number():\n",
        "    while True:\n",
        "        n = int(input(\"What's x? \"))\n",
        "        if n > 0:\n",
        "            return n\n",
        "\n",
        "def number(n):\n",
        "    for _ in range(n):\n",
        "        print(\"meow\")\n",
        "main()\n"
      ]
    },
    {
      "cell_type": "markdown",
      "source": [
        "A simple code taking in a number from the user inside the function get_number with a condition so that the n must be greater than 0 to break from the loop and return the value of n which then gets passed onto the num variable. The number function takes in an input of n and loops through the number of iterations specified by the user and output is shown when the number variable is called with the parameter of num."
      ],
      "metadata": {
        "id": "KUdHuB_Ad_4F"
      }
    }
  ]
}