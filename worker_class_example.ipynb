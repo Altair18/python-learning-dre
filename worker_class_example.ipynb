{
  "nbformat": 4,
  "nbformat_minor": 0,
  "metadata": {
    "colab": {
      "provenance": []
    },
    "kernelspec": {
      "name": "python3",
      "display_name": "Python 3"
    },
    "language_info": {
      "name": "python"
    }
  },
  "cells": [
    {
      "cell_type": "code",
      "execution_count": 3,
      "metadata": {
        "colab": {
          "base_uri": "https://localhost:8080/"
        },
        "id": "hYiAYXSW0tem",
        "outputId": "751257d3-3be6-465b-e03a-effb2629beb4"
      },
      "outputs": [
        {
          "output_type": "stream",
          "name": "stdout",
          "text": [
            "25\n"
          ]
        }
      ],
      "source": [
        "# Defining a class called Worker to represent employees with specific attributes\n",
        "\n",
        "class Worker:\n",
        "    def __init__(self, name, age, occupation, efficiency):     # The __init__ method initializes a new instance of the Worker class\n",
        "        self.name = name\n",
        "        self.age = age\n",
        "        self.occupation = occupation\n",
        "        self.efficiency = efficiency\n",
        "\n",
        "# Creating instances (objects) of the Worker class with individual data\n",
        "worker1 = Worker(\"Josh\", 25, \"Architect\", 75)\n",
        "worker2 = Worker(\"Amanda\", 22, \"Teacher\", 87)\n",
        "worker3 = Worker(\"James\", 27, \"Student\", 97)\n",
        "\n",
        "# Accessing and printing a specific attribute (age) of worker1\n",
        "print(worker1.age)\n"
      ]
    },
    {
      "cell_type": "markdown",
      "source": [
        "This script demonstrates a basic example of Object-Oriented Programming (OOP) in Python.\n",
        "\n",
        "It defines a class called `Worker`, which models a person with attributes like name, age, occupation, and efficiency. The script then creates multiple Worker objects with different data and shows how to access object properties.\n",
        "\n",
        "Use cases:\n",
        "- Building larger programs that manage user data\n",
        "- Understanding class-based data modeling\n",
        "- Practicing clean and structured Python syntax"
      ],
      "metadata": {
        "id": "IfvcCinK5Bvz"
      }
    }
  ]
}